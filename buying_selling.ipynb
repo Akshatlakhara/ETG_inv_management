{
 "cells": [
  {
   "cell_type": "code",
   "execution_count": 31,
   "id": "6569cec0",
   "metadata": {},
   "outputs": [],
   "source": [
    "import json\n",
    "#fd = open(\"record2.json\",\"r\")\n",
    "#r = fd.read()\n",
    "fd.close()"
   ]
  },
  {
   "cell_type": "code",
   "execution_count": 32,
   "id": "2803b095",
   "metadata": {},
   "outputs": [],
   "source": [
    "#record = json.loads(r)"
   ]
  },
  {
   "cell_type": "code",
   "execution_count": 33,
   "id": "ebc671e9",
   "metadata": {},
   "outputs": [
    {
     "data": {
      "text/plain": [
       "dict_keys(['1191', '1192', '1193', '1194', '1195', '1196', '1197', '1198', '1199', '1200', '1202', '1203', '1204', '1205', '1206', '1208', '1209', '1210', '1211', '1212', '1213', '1214', '1215', '1216', '1217', '1218', '1219', '1220', '1221', '1222'])"
      ]
     },
     "execution_count": 33,
     "metadata": {},
     "output_type": "execute_result"
    }
   ],
   "source": [
    "#record.keys()"
   ]
  },
  {
   "cell_type": "code",
   "execution_count": 34,
   "id": "9dabbff2",
   "metadata": {},
   "outputs": [],
   "source": [
    "#js = json.dumps(record)"
   ]
  },
  {
   "cell_type": "code",
   "execution_count": 35,
   "id": "4a06a19f",
   "metadata": {},
   "outputs": [],
   "source": [
    "#fd = open(\"record.json\",\"w\")\n",
    "\n",
    "#fd.write(js)\n",
    "#fd.close()"
   ]
  },
  {
   "cell_type": "code",
   "execution_count": 36,
   "id": "a4d37f92",
   "metadata": {},
   "outputs": [],
   "source": [
    "#fd = open(\"record.json\",\"r\")\n",
    "#r = fd.read()\n",
    "#fd.close()"
   ]
  },
  {
   "cell_type": "code",
   "execution_count": 37,
   "id": "99166d7c",
   "metadata": {},
   "outputs": [],
   "source": [
    "#record = json.loads(r)"
   ]
  },
  {
   "cell_type": "code",
   "execution_count": 39,
   "id": "ca5d631b",
   "metadata": {},
   "outputs": [],
   "source": [
    "#record"
   ]
  },
  {
   "cell_type": "code",
   "execution_count": 110,
   "id": "aeebb057",
   "metadata": {},
   "outputs": [
    {
     "name": "stdout",
     "output_type": "stream",
     "text": [
      "enter the product to buy1205\n",
      "enter the quantity15\n"
     ]
    }
   ],
   "source": [
    "prod_buy = str(input(\"enter the product to buy\"))\n",
    "quan = int(input(\"enter the quantity\"))\n",
    "\n",
    "if record[prod_buy][\"quantity\"]<=quan:\n",
    "    bill_prod = record[prod_buy][\"price\"]*record[prod_buy][\"quantity\"]\n",
    "    record[prod_buy][\"quantity\"]=0\n",
    "else:\n",
    "    record[prod_buy][\"quantity\"]-=quan\n",
    "    bill_prod = record[prod_buy][\"price\"]*quan\n",
    "    \n",
    "#if seller has enough amount the customer buys it, if not the customer takes whatever is there\n",
    "\n"
   ]
  },
  {
   "cell_type": "code",
   "execution_count": 111,
   "id": "94906970",
   "metadata": {},
   "outputs": [
    {
     "data": {
      "text/plain": [
       "285"
      ]
     },
     "execution_count": 111,
     "metadata": {},
     "output_type": "execute_result"
    }
   ],
   "source": [
    "record[prod_buy][\"quantity\"]"
   ]
  },
  {
   "cell_type": "code",
   "execution_count": 112,
   "id": "b73c304b",
   "metadata": {},
   "outputs": [],
   "source": [
    "js=json.dumps(record)"
   ]
  },
  {
   "cell_type": "code",
   "execution_count": 113,
   "id": "841057f6",
   "metadata": {},
   "outputs": [],
   "source": [
    "fd= open(\"record.json\",\"w\")\n",
    "fd.write(js)\n",
    "fd.close()"
   ]
  },
  {
   "cell_type": "code",
   "execution_count": 114,
   "id": "ce17f812",
   "metadata": {},
   "outputs": [],
   "source": [
    "#sales ={}\n",
    "sales[len(sales)+1]={\"prod\":prod_buy,\"name\":record[prod_buy][\"name\"],\"quantity\":quan,\"bill\":bill_prod}"
   ]
  },
  {
   "cell_type": "code",
   "execution_count": 115,
   "id": "5fc6596d",
   "metadata": {},
   "outputs": [],
   "source": [
    "jss = json.dumps(sales)\n"
   ]
  },
  {
   "cell_type": "code",
   "execution_count": 116,
   "id": "73ae0c4b",
   "metadata": {},
   "outputs": [],
   "source": [
    "fd = open(\"sales.json\",\"w\")\n",
    "fd.write(jss)\n",
    "fd.close()"
   ]
  },
  {
   "cell_type": "code",
   "execution_count": null,
   "id": "e4c7dd0b",
   "metadata": {},
   "outputs": [],
   "source": []
  },
  {
   "cell_type": "code",
   "execution_count": null,
   "id": "81978f9b",
   "metadata": {},
   "outputs": [],
   "source": []
  },
  {
   "cell_type": "code",
   "execution_count": null,
   "id": "f78375e4",
   "metadata": {},
   "outputs": [],
   "source": []
  }
 ],
 "metadata": {
  "kernelspec": {
   "display_name": "Python 3",
   "language": "python",
   "name": "python3"
  },
  "language_info": {
   "codemirror_mode": {
    "name": "ipython",
    "version": 3
   },
   "file_extension": ".py",
   "mimetype": "text/x-python",
   "name": "python",
   "nbconvert_exporter": "python",
   "pygments_lexer": "ipython3",
   "version": "3.8.8"
  }
 },
 "nbformat": 4,
 "nbformat_minor": 5
}
