{
 "cells": [
  {
   "cell_type": "code",
   "execution_count": null,
   "id": "fab0024f",
   "metadata": {},
   "outputs": [],
   "source": [
    "import json\n",
    "fd=open(\"record2.json\",\"r\")\n",
    "r=fd.read()\n",
    "fd.close()\n",
    "\n",
    "record = json.loads(r)\n",
    "\n",
    "#record ={}\n",
    "pro_id = str(input(\"enter the id\"))\n",
    "name = str(input(\"enter the name\"))\n",
    "\n",
    "quan =int( input(\"enter the amount of prods\"))\n",
    "type_of = str(input(\"enter the type of product\"))\n",
    "price = int(input(\"enter the price\"))\n",
    "\n",
    "\n",
    "vol = int(input(\"enter the volume\"))\n",
    "\n",
    "record[pro_id]={\"name\":name,\"quantity\":quan,\"type_of\":type_of,\"price\":price,\"volume\":vol}"
   ]
  },
  {
   "cell_type": "code",
   "execution_count": 157,
   "id": "ccff6267",
   "metadata": {},
   "outputs": [],
   "source": [
    "import json\n",
    "js = json.dumps(record)"
   ]
  },
  {
   "cell_type": "code",
   "execution_count": 158,
   "id": "486b32a8",
   "metadata": {},
   "outputs": [],
   "source": [
    "fd = open(\"record2.json\",\"w\")\n",
    "fd.write(js)\n",
    "fd.close()"
   ]
  },
  {
   "cell_type": "code",
   "execution_count": null,
   "id": "f02cf941",
   "metadata": {},
   "outputs": [],
   "source": []
  },
  {
   "cell_type": "code",
   "execution_count": null,
   "id": "3a867236",
   "metadata": {},
   "outputs": [],
   "source": []
  }
 ],
 "metadata": {
  "kernelspec": {
   "display_name": "Python 3",
   "language": "python",
   "name": "python3"
  },
  "language_info": {
   "codemirror_mode": {
    "name": "ipython",
    "version": 3
   },
   "file_extension": ".py",
   "mimetype": "text/x-python",
   "name": "python",
   "nbconvert_exporter": "python",
   "pygments_lexer": "ipython3",
   "version": "3.8.8"
  }
 },
 "nbformat": 4,
 "nbformat_minor": 5
}
